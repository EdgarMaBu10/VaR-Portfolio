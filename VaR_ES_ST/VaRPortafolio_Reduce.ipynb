{
 "cells": [
  {
   "cell_type": "markdown",
   "metadata": {},
   "source": [
    "# Tarea cambio Portafolio VaR 3\n",
    "\n",
    "> 4 de septiembre de 2020\n",
    "\n",
    "1. Calcular el VaR y Expected Shortfall para el viernes 4 de septiembre de 2020 del siguiente portafolio, simulación histórica (2 años) nivel de confianza 97.5%\n",
    "\n",
    "| Activo  | IYW | IBB  | IYF  | SPY | GLD  |  VXX  |\n",
    "|---------|-----|------|------|-----|------|-------|\n",
    "| Títulos | 644 | 1887 | 2130 | 286 | 540  | 3703  |\n",
    "\n",
    "**a)** ¿Cuál habria sido la pérdida del portafolio si no hubieramos comprado ayer el VXX?\n",
    "\n",
    "**b)** ¿De cuánto sería nuestro VaR y ES para mañana si no tuvieramos el VXX en el portafolio?"
   ]
  },
  {
   "cell_type": "code",
   "execution_count": 23,
   "metadata": {
    "ExecuteTime": {
     "end_time": "2020-09-04T03:46:19.941884Z",
     "start_time": "2020-09-04T03:46:19.615459Z"
    }
   },
   "outputs": [],
   "source": [
    "# Importar paqueterías\n",
    "import pandas as pd\n",
    "import numpy as np\n",
    "import matplotlib.pyplot as plt\n",
    "%matplotlib inline\n",
    "import pandas_datareader.data as web"
   ]
  },
  {
   "cell_type": "code",
   "execution_count": 24,
   "metadata": {
    "ExecuteTime": {
     "end_time": "2020-09-04T03:46:20.186906Z",
     "start_time": "2020-09-04T03:46:20.172915Z"
    }
   },
   "outputs": [],
   "source": [
    "# Función para descargar precios de cierre ajustados:\n",
    "def get_adj_closes(tickers, start_date=None, end_date=None):\n",
    "    # Fecha inicio por defecto (start_date='2010-01-01') y fecha fin por defecto (end_date=today)\n",
    "    # Descargamos DataFrame con todos los datos\n",
    "    closes = web.DataReader(name=tickers, data_source='yahoo', start=start_date, end=end_date)\n",
    "    # Solo necesitamos los precios ajustados en el cierre\n",
    "    closes = closes['Adj Close']\n",
    "    # Se ordenan los índices de manera ascendente\n",
    "    closes.sort_index(inplace=True)\n",
    "    return closes"
   ]
  },
  {
   "cell_type": "code",
   "execution_count": 25,
   "metadata": {
    "ExecuteTime": {
     "end_time": "2020-09-04T03:46:20.907665Z",
     "start_time": "2020-09-04T03:46:20.888864Z"
    }
   },
   "outputs": [],
   "source": [
    "def  VaRPortTitulos(names: 'Tickers de los activos del portafolio en []', \n",
    "                    start: 'Fecha inicio',\n",
    "                    end: 'Fecha final',\n",
    "                    titulos: 'Titulos de los activos del portafolio en [] (mismo orden de tickers)',\n",
    "                    confianza: 'Nivel de confianza del VaR (en decimal)'\n",
    "                    ):\n",
    "    # Descarga de datos\n",
    "    closes= get_adj_closes(tickers=names, start_date=start, end_date=end)\n",
    "    ret= np.log(closes/closes.shift(1)).iloc[1:]\n",
    "    # Exposure \n",
    "    ExpTotal= np.sum([titulos[i]*closes[names[i]][-1] for i in range(len(names))])\n",
    "    ExpIndiv= [titulos[j]*closes[names[j]][-1] for j in range(len(names))]\n",
    "    # Pesos\n",
    "    PesosAct= [ExpIndiv[k]/ExpTotal for k in range(len(ExpIndiv))]\n",
    "    # Portafolio\n",
    "    PortIndiv= [PesosAct[i]*ret[names[i]] for i in range(len(PesosAct))]\n",
    "    Port= np.sum(PortIndiv, axis=0)\n",
    "    # Acomodarlo menor a mayor\n",
    "    sortport= np.sort(Port)\n",
    "    n= len(Port)\n",
    "    # Nivel de confianza\n",
    "    fuera= round(n*(1-confianza))\n",
    "    # VaR en porcentaje\n",
    "    VaRPortP= sortport[fuera]\n",
    "    # VaR en dinero\n",
    "    VaRPortM= ExpTotal*VaRPortP\n",
    "    return print(\"VaR en porciento:\", VaRPortP, \n",
    "                 '\\nVaR en dinero:', VaRPortM)"
   ]
  },
  {
   "cell_type": "code",
   "execution_count": 26,
   "metadata": {
    "ExecuteTime": {
     "end_time": "2020-09-04T03:46:21.481993Z",
     "start_time": "2020-09-04T03:46:21.472958Z"
    }
   },
   "outputs": [],
   "source": [
    "def  ESPortTitulos(names: 'Tickers de los activos del portafolio en []', \n",
    "                   start: 'Fecha inicio',\n",
    "                   end: 'Fecha final',\n",
    "                   titulos: 'Titulos de los activos del portafolio en [] (mismo orden de tickers)',\n",
    "                   confianza: 'Nivel de confianza del VaR (en decimal)'\n",
    "                   ):\n",
    "    # Descarga de datos\n",
    "    closes= get_adj_closes(tickers=names, start_date=start, end_date=end)\n",
    "    ret= np.log(closes/closes.shift(1)).iloc[1:]\n",
    "    # Exposure \n",
    "    ExpTotal= np.sum([titulos[i]*closes[names[i]][-1] for i in range(len(names))])\n",
    "    ExpIndiv= [titulos[j]*closes[names[j]][-1] for j in range(len(names))]\n",
    "    # Pesos\n",
    "    PesosAct= [ExpIndiv[k]/ExpTotal for k in range(len(ExpIndiv))]\n",
    "    # Portafolio\n",
    "    PortIndiv= [PesosAct[i]*ret[names[i]] for i in range(len(PesosAct))]\n",
    "    Port= np.sum(PortIndiv, axis=0)\n",
    "    # Acomodarlo menor a mayor\n",
    "    sortport= np.sort(Port)\n",
    "    n= len(Port)\n",
    "    # Nivel de confianza\n",
    "    fuera= round(n*(1-confianza))\n",
    "    # ES en porcentaje\n",
    "    ESPortP= np.mean(sortport[0:fuera])\n",
    "    # ES en dinero\n",
    "    ESPortM= ESPortP*ExpTotal\n",
    "    return print(\"ES en porciento:\", ESPortP, \n",
    "                 '\\nES en dinero:', ESPortM)"
   ]
  },
  {
   "cell_type": "code",
   "execution_count": 30,
   "metadata": {
    "ExecuteTime": {
     "end_time": "2020-09-04T03:49:46.846927Z",
     "start_time": "2020-09-04T03:49:42.313557Z"
    }
   },
   "outputs": [
    {
     "name": "stdout",
     "output_type": "stream",
     "text": [
      "VaR en porciento: -0.01754824506166703 \n",
      "VaR en dinero: -17747.65387835992\n"
     ]
    }
   ],
   "source": [
    "names=['IYW', 'IBB', 'IYF', 'SPY', 'GLD', 'VXX']\n",
    "start= '2018-09-03'\n",
    "end= '2020-09-03'\n",
    "titulos= [644, 1887, 2130, 286, 540, 3703]\n",
    "confianza= 0.975\n",
    "VaRPortTitulos(names=names, start=start, end=end, titulos=titulos, confianza=confianza)"
   ]
  },
  {
   "cell_type": "code",
   "execution_count": 31,
   "metadata": {
    "ExecuteTime": {
     "end_time": "2020-09-04T03:50:06.642912Z",
     "start_time": "2020-09-04T03:49:46.853541Z"
    },
    "scrolled": true
   },
   "outputs": [
    {
     "name": "stdout",
     "output_type": "stream",
     "text": [
      "ES en porciento: -0.031446744696723754 \n",
      "ES en dinero: -31804.088586484853\n"
     ]
    }
   ],
   "source": [
    "ESPortTitulos(names=names, start=start, end=end, titulos=titulos, confianza=confianza)"
   ]
  },
  {
   "cell_type": "markdown",
   "metadata": {},
   "source": [
    "## a) ¿Cuál habria sido la pérdida del portafolio si no hubieramos comprado ayer el VXX?"
   ]
  },
  {
   "cell_type": "code",
   "execution_count": 45,
   "metadata": {
    "ExecuteTime": {
     "end_time": "2020-09-04T04:09:43.590293Z",
     "start_time": "2020-09-04T04:09:43.562755Z"
    }
   },
   "outputs": [],
   "source": [
    "def  RendPortafolio(names: 'Tickers de los activos del portafolio en []', \n",
    "                    start: 'Fecha inicio',\n",
    "                    end: 'Fecha final',\n",
    "                    titulos: 'Titulos de los activos del portafolio en [] (mismo orden de tickers)',\n",
    "                    ):\n",
    "    # Descarga de datos\n",
    "    closes= get_adj_closes(tickers=names, start_date=start, end_date=end)\n",
    "    ret= np.log(closes/closes.shift(1)).iloc[1:]\n",
    "    # Exposure \n",
    "    ExpTotal= np.sum([titulos[i]*closes[names[i]][-1] for i in range(len(names))])\n",
    "    ExpIndiv= [titulos[j]*closes[names[j]][-1] for j in range(len(names))]\n",
    "    # Pesos\n",
    "    PesosAct= [ExpIndiv[k]/ExpTotal for k in range(len(ExpIndiv))]\n",
    "    # Portafolio\n",
    "    PortIndiv= [PesosAct[i]*ret[names[i]] for i in range(len(PesosAct))]\n",
    "    ret['Port']= np.sum(PortIndiv, axis=0)\n",
    "    return ret['Port']"
   ]
  },
  {
   "cell_type": "code",
   "execution_count": 46,
   "metadata": {
    "ExecuteTime": {
     "end_time": "2020-09-04T04:09:48.318058Z",
     "start_time": "2020-09-04T04:09:44.541422Z"
    }
   },
   "outputs": [],
   "source": [
    "names2= ['IYW', 'IBB', 'IYF', 'SPY', 'GLD']\n",
    "titulos2= [644, 1887, 2130, 286, 540]\n",
    "PortsVXX= RendPortafolio(names=names2, start=start, end=end, titulos=titulos2)"
   ]
  },
  {
   "cell_type": "code",
   "execution_count": 50,
   "metadata": {
    "ExecuteTime": {
     "end_time": "2020-09-04T04:11:26.770271Z",
     "start_time": "2020-09-04T04:11:26.749407Z"
    }
   },
   "outputs": [
    {
     "name": "stdout",
     "output_type": "stream",
     "text": [
      "De no haber agregado VXX al portafolio habríamos obtenido una pérdida porcentual de -0.03373306564421819.\n",
      "Sabiendo que el Exposure total fue de $893941.34, habríamos tenido una pérdida en dinero de $-30155.38190430037.\n"
     ]
    }
   ],
   "source": [
    "PortDin= PortsVXX[-1]*893941.34\n",
    "print('De no haber agregado VXX al portafolio habríamos obtenido una pérdida porcentual de {}.'\n",
    "      .format(PortsVXX[-1]))\n",
    "print('Sabiendo que el Exposure total fue de $893941.34, habríamos tenido una pérdida en dinero de ${}.'\n",
    "      .format(PortDin))"
   ]
  },
  {
   "cell_type": "markdown",
   "metadata": {},
   "source": [
    "## b) ¿De cuánto sería nuestro VaR y ES para mañana si no tuvieramos el VXX en el portafolio?"
   ]
  },
  {
   "cell_type": "code",
   "execution_count": 32,
   "metadata": {
    "ExecuteTime": {
     "end_time": "2020-09-04T03:50:18.882326Z",
     "start_time": "2020-09-04T03:50:13.921240Z"
    }
   },
   "outputs": [
    {
     "name": "stdout",
     "output_type": "stream",
     "text": [
      "VaR en porciento: -0.030395430908644758 \n",
      "VaR en dinero: -27171.732097564556\n"
     ]
    }
   ],
   "source": [
    "VaRPortTitulos(names=names2, start=start, end=end, titulos=titulos2, confianza=confianza)"
   ]
  },
  {
   "cell_type": "code",
   "execution_count": 33,
   "metadata": {
    "ExecuteTime": {
     "end_time": "2020-09-04T03:50:22.947273Z",
     "start_time": "2020-09-04T03:50:18.888329Z"
    }
   },
   "outputs": [
    {
     "name": "stdout",
     "output_type": "stream",
     "text": [
      "ES en porciento: -0.05228467185298456 \n",
      "ES en dinero: -46739.4293789834\n"
     ]
    }
   ],
   "source": [
    "ESPortTitulos(names=names2, start=start, end=end, titulos=titulos2, confianza=confianza)"
   ]
  },
  {
   "cell_type": "markdown",
   "metadata": {},
   "source": [
    "___\n",
    "# Tarea cambio Portafolio VaR 2\n",
    "\n",
    "> 3 de septiembre de 2020\n",
    "\n",
    "1. Calcular el VaR y Expected Shortfall para el jueves 3 de septiembre de 2020 del siguiente portafolio, simulación histórica (2 años) nivel de confianza 97.5%\n",
    "\n",
    "| Activo  | IYW | IBB  | IYF  | SPY | GLD  |  VXX  |\n",
    "|---------|-----|------|------|-----|------|-------|\n",
    "| Títulos | 644 | 1887 | 2130 | 286 | 540  | 3703  |\n",
    "\n",
    "**a)** ¿Al agregr este activo, subió el VaR o bajó? ¿En cuánto?"
   ]
  },
  {
   "cell_type": "code",
   "execution_count": 18,
   "metadata": {
    "ExecuteTime": {
     "end_time": "2020-09-03T18:39:55.182881Z",
     "start_time": "2020-09-03T18:39:48.684938Z"
    }
   },
   "outputs": [
    {
     "name": "stdout",
     "output_type": "stream",
     "text": [
      "VaR en porciento: -0.0189768917465918 \n",
      "VaR en dinero: -19512.49511072851\n"
     ]
    }
   ],
   "source": [
    "names=['IYW', 'IBB', 'IYF', 'SPY', 'GLD', 'VXX']\n",
    "start= '2018-09-02'\n",
    "end= '2020-09-02'\n",
    "titulos= [644, 1887, 2130, 286, 540, 3703]\n",
    "confianza= 0.975\n",
    "VaRPortTitulos(names=names, start=start, end=end, titulos=titulos, confianza=confianza)"
   ]
  },
  {
   "cell_type": "code",
   "execution_count": 19,
   "metadata": {
    "ExecuteTime": {
     "end_time": "2020-09-03T18:40:03.538011Z",
     "start_time": "2020-09-03T18:39:58.187104Z"
    }
   },
   "outputs": [
    {
     "name": "stdout",
     "output_type": "stream",
     "text": [
      "ES en porciento: -0.033798933354820836 \n",
      "ES en dinero: -34752.87368661019\n"
     ]
    }
   ],
   "source": [
    "ESPortTitulos(names=names, start=start, end=end, titulos=titulos, confianza=confianza)"
   ]
  },
  {
   "cell_type": "markdown",
   "metadata": {},
   "source": [
    "## a) ¿Al agregr este activo, subió el VaR o bajó? ¿En cuánto?\n",
    "> Cálculos arriba y abajo\n",
    "\n",
    "- Como podemos observar, agregando VXX fuimos capaces de reducir el VaR del portafolio de -26082.44 usd a -19512.49 usd.\n",
    "- El Expected Shortfall se redujo un total de 12843.93 usd.\n",
    "- En ambos escenarios fue una buena idea desde el punto de vista de riesgo agregar este asset.\n"
   ]
  },
  {
   "cell_type": "markdown",
   "metadata": {},
   "source": [
    "___\n",
    "# Tarea cambio Portafolio VaR\n",
    "\n",
    "> 2 de septiembre de 2020\n",
    "\n",
    "1. Calcular el VaR y Expected Shortfall para el miércoles 2 de septiembre de 2020 del siguiente portafolio, simulación histórica (2 años) nivel de confianza 97.5%\n",
    "\n",
    "| Activo  | IYW | IBB  | IYF  | SPY | GLD  |\n",
    "|---------|-----|------|------|-----|------|\n",
    "| Títulos | 644 | 1887 | 2130 | 286 | 540  |"
   ]
  },
  {
   "cell_type": "code",
   "execution_count": 21,
   "metadata": {
    "ExecuteTime": {
     "end_time": "2020-09-03T18:42:05.281695Z",
     "start_time": "2020-09-03T18:42:00.536948Z"
    }
   },
   "outputs": [
    {
     "name": "stdout",
     "output_type": "stream",
     "text": [
      "VaR en porciento: -0.028507945798715743 \n",
      "VaR en dinero: -26082.44551228855\n"
     ]
    }
   ],
   "source": [
    "names=['IYW', 'IBB', 'IYF', 'SPY', 'GLD']\n",
    "start= '2018-09-01'\n",
    "end= '2020-09-01'\n",
    "titulos= [644, 1887, 2130, 286, 540]\n",
    "confianza= 0.975\n",
    "VaRPortTitulos(names=names, start=start, end=end, titulos=titulos, confianza=confianza)"
   ]
  },
  {
   "cell_type": "code",
   "execution_count": 147,
   "metadata": {
    "ExecuteTime": {
     "end_time": "2020-09-01T23:16:15.923819Z",
     "start_time": "2020-09-01T23:16:15.912338Z"
    }
   },
   "outputs": [],
   "source": [
    "def  ESPortTitulos(names: 'Tickers de los activos del portafolio en []', \n",
    "                   start: 'Fecha inicio (se asume hoy fecha final)',\n",
    "                   titulos: 'Titulos de los activos del portafolio en [] (mismo orden de tickers)',\n",
    "                   confianza: 'Nivel de confianza del VaR (en decimal)'\n",
    "                   ):\n",
    "    # Descarga de datos\n",
    "    closes= get_adj_closes(tickers=names, start_date=start)\n",
    "    ret= np.log(closes/closes.shift(1)).iloc[1:]\n",
    "    # Exposure \n",
    "    ExpTotal= np.sum([titulos[i]*closes[names[i]][-1] for i in range(len(names))])\n",
    "    ExpIndiv= [titulos[j]*closes[names[j]][-1] for j in range(len(names))]\n",
    "    # Pesos\n",
    "    PesosAct= [ExpIndiv[k]/ExpTotal for k in range(len(ExpIndiv))]\n",
    "    # Portafolio\n",
    "    PortIndiv= [PesosAct[i]*ret[names[i]] for i in range(len(PesosAct))]\n",
    "    Port= np.sum(PortIndiv, axis=0)\n",
    "    # Acomodarlo menor a mayor\n",
    "    sortport= np.sort(Port)\n",
    "    n= len(Port)\n",
    "    # Nivel de confianza\n",
    "    fuera= round(n*(1-confianza))\n",
    "    # ES en porcentaje\n",
    "    ESPortP= np.mean(sortport[0:fuera])\n",
    "    # ES en dinero\n",
    "    ESPortM= ESPortP*ExpTotal\n",
    "    return print(\"ES en porciento:\", ESPortP, \n",
    "                 '\\nES en dinero:', ESPortM)"
   ]
  },
  {
   "cell_type": "code",
   "execution_count": 22,
   "metadata": {
    "ExecuteTime": {
     "end_time": "2020-09-03T18:42:14.658149Z",
     "start_time": "2020-09-03T18:42:10.103809Z"
    }
   },
   "outputs": [
    {
     "name": "stdout",
     "output_type": "stream",
     "text": [
      "ES en porciento: -0.05202300245680959 \n",
      "ES en dinero: -47596.80464337476\n"
     ]
    }
   ],
   "source": [
    "ESPortTitulos(names=names, start=start, end=end, titulos=titulos, confianza=confianza)"
   ]
  },
  {
   "cell_type": "markdown",
   "metadata": {},
   "source": [
    "___\n",
    "# Tarea reducir VaR Portafolio\n",
    "\n",
    "> 1 de septiembre de 2020\n",
    "\n",
    "1. Calcular el VaR y Expected Shortfall para el martes 1 de septiembre de 2020 del siguiente portafolio, simulación histórica (2 años) nivel de confianza 97.5%\n",
    "\n",
    "| Activo  | IYW | IBB  | IYF  | SPY | GLD  |\n",
    "|---------|-----|------|------|-----|------|\n",
    "| Títulos | 944 | 1887 | 1676 | 286 | 540  |\n",
    "\n",
    "2. Si nos dan la orden de reducir el VaR a 20 mil dólares o menos,explica detalladamente cómo hacerlo con:\n",
    "\n",
    "**a)** Futuros de algún indice bursátil \n",
    "\n",
    "**b)** Reduciendo en alguno de los activos actuales para comprar VXX o algún etf inverso de algún índice bursátil (del Dow, S&P o Nasdaq)\n",
    "\n",
    "**c)** Con calls ya sea de los activos que tiene el portafolio o de algún índice bursátil \n",
    "\n",
    "**d)** Con puts ya sea de los activos que se traen en el portafolio o de algún índice"
   ]
  },
  {
   "cell_type": "markdown",
   "metadata": {},
   "source": [
    "## 1."
   ]
  },
  {
   "cell_type": "code",
   "execution_count": 115,
   "metadata": {
    "ExecuteTime": {
     "end_time": "2020-09-01T16:35:48.491099Z",
     "start_time": "2020-09-01T16:35:35.102319Z"
    }
   },
   "outputs": [
    {
     "name": "stdout",
     "output_type": "stream",
     "text": [
      "VaR en porciento: -0.029833930224819942 \n",
      "VaR en dinero: -28522.417406775014\n"
     ]
    }
   ],
   "source": [
    "names=['IYW', 'IBB', 'IYF', 'SPY', 'GLD']\n",
    "start= '2018-08-31'\n",
    "titulos= [944, 1887, 1676, 286, 540]\n",
    "confianza= 0.975\n",
    "VaRPortTitulos(names=names, start=start, titulos=titulos, confianza=0.975)"
   ]
  },
  {
   "cell_type": "code",
   "execution_count": 116,
   "metadata": {
    "ExecuteTime": {
     "end_time": "2020-09-01T16:36:07.700748Z",
     "start_time": "2020-09-01T16:36:03.499825Z"
    },
    "scrolled": true
   },
   "outputs": [
    {
     "name": "stdout",
     "output_type": "stream",
     "text": [
      "ES en porciento: -0.052246026335900544 \n",
      "ES en dinero: -49947.539055113346\n"
     ]
    }
   ],
   "source": [
    "ESPortTitulos(names=names, start=start, titulos=titulos, confianza=0.975)"
   ]
  },
  {
   "cell_type": "markdown",
   "metadata": {},
   "source": [
    "## 2."
   ]
  },
  {
   "cell_type": "markdown",
   "metadata": {},
   "source": [
    "### a) Futuros de algún indice bursátil\n",
    "> Cálculos abajo.\n",
    "\n",
    "- Nuestro VaR es de -28522.42 usd y queremos reducirlo a menos de 20 mil dólares, por lo que se realizará una cobertura por 9k.\n",
    "- Se realizará la cobertura que con el índice S&P500 mini, que tiene un valor de 50 dls por punto.\n",
    "- Como podemos observar, el activo SPY ya se encuentra en el portafolio, por lo que se puede realizar una cobertura directa.\n",
    "- En todos los activos (incluido SPY) estoy largo, por lo que debo tomar una posición corta para poderme cubrir.\n",
    "- Como no puede haber fracciones de contratos es necesario redondear, por lo que se determina que el número de contratos para la posición es **1**."
   ]
  },
  {
   "cell_type": "code",
   "execution_count": 63,
   "metadata": {
    "ExecuteTime": {
     "end_time": "2020-09-01T04:40:34.415971Z",
     "start_time": "2020-09-01T04:40:25.989489Z"
    },
    "scrolled": true
   },
   "outputs": [
    {
     "data": {
      "text/html": [
       "<div>\n",
       "<style scoped>\n",
       "    .dataframe tbody tr th:only-of-type {\n",
       "        vertical-align: middle;\n",
       "    }\n",
       "\n",
       "    .dataframe tbody tr th {\n",
       "        vertical-align: top;\n",
       "    }\n",
       "\n",
       "    .dataframe thead th {\n",
       "        text-align: right;\n",
       "    }\n",
       "</style>\n",
       "<table border=\"1\" class=\"dataframe\">\n",
       "  <thead>\n",
       "    <tr style=\"text-align: right;\">\n",
       "      <th>Symbols</th>\n",
       "      <th>GLD</th>\n",
       "      <th>IBB</th>\n",
       "      <th>IYF</th>\n",
       "      <th>IYW</th>\n",
       "      <th>SPY</th>\n",
       "    </tr>\n",
       "    <tr>\n",
       "      <th>Date</th>\n",
       "      <th></th>\n",
       "      <th></th>\n",
       "      <th></th>\n",
       "      <th></th>\n",
       "      <th></th>\n",
       "    </tr>\n",
       "  </thead>\n",
       "  <tbody>\n",
       "    <tr>\n",
       "      <th>2020-07-31</th>\n",
       "      <td>185.429993</td>\n",
       "      <td>134.369995</td>\n",
       "      <td>113.739998</td>\n",
       "      <td>285.959991</td>\n",
       "      <td>326.519989</td>\n",
       "    </tr>\n",
       "    <tr>\n",
       "      <th>2020-08-03</th>\n",
       "      <td>185.639999</td>\n",
       "      <td>138.570007</td>\n",
       "      <td>113.620003</td>\n",
       "      <td>292.299988</td>\n",
       "      <td>328.790009</td>\n",
       "    </tr>\n",
       "    <tr>\n",
       "      <th>2020-08-04</th>\n",
       "      <td>189.589996</td>\n",
       "      <td>137.679993</td>\n",
       "      <td>113.739998</td>\n",
       "      <td>293.059998</td>\n",
       "      <td>330.059998</td>\n",
       "    </tr>\n",
       "    <tr>\n",
       "      <th>2020-08-05</th>\n",
       "      <td>191.350006</td>\n",
       "      <td>137.279999</td>\n",
       "      <td>115.139999</td>\n",
       "      <td>293.440002</td>\n",
       "      <td>332.109985</td>\n",
       "    </tr>\n",
       "    <tr>\n",
       "      <th>2020-08-06</th>\n",
       "      <td>193.889999</td>\n",
       "      <td>136.759995</td>\n",
       "      <td>115.250000</td>\n",
       "      <td>297.820007</td>\n",
       "      <td>334.329987</td>\n",
       "    </tr>\n",
       "  </tbody>\n",
       "</table>\n",
       "</div>"
      ],
      "text/plain": [
       "Symbols            GLD         IBB         IYF         IYW         SPY\n",
       "Date                                                                  \n",
       "2020-07-31  185.429993  134.369995  113.739998  285.959991  326.519989\n",
       "2020-08-03  185.639999  138.570007  113.620003  292.299988  328.790009\n",
       "2020-08-04  189.589996  137.679993  113.739998  293.059998  330.059998\n",
       "2020-08-05  191.350006  137.279999  115.139999  293.440002  332.109985\n",
       "2020-08-06  193.889999  136.759995  115.250000  297.820007  334.329987"
      ]
     },
     "execution_count": 63,
     "metadata": {},
     "output_type": "execute_result"
    }
   ],
   "source": [
    "nombres= ['IYW', 'IBB', 'IYF', 'GLD', 'SPY']\n",
    "closes= get_adj_closes(tickers=nombres, start_date='2020-07-31')\n",
    "closes.head()"
   ]
  },
  {
   "cell_type": "code",
   "execution_count": 117,
   "metadata": {
    "ExecuteTime": {
     "end_time": "2020-09-01T16:36:31.597600Z",
     "start_time": "2020-09-01T16:36:31.590793Z"
    }
   },
   "outputs": [
    {
     "name": "stdout",
     "output_type": "stream",
     "text": [
      "Contratos necesarios 0.5153015981737155. \n",
      "Redondeamos hacia arriba por lo que nos quedamos con UN contrato para la cobertura.\n"
     ]
    }
   ],
   "source": [
    "# Tomando en cuenta que cada punto del S&P500 vale 50 usd haremos los sig. cálculos\n",
    "# para determinar el núm de contratos necesarios\n",
    "SPYhoy= 50*closes['SPY'][-1]\n",
    "cContratos= 9000/SPYhoy\n",
    "print('Contratos necesarios {}.'.format(cContratos),\n",
    "      '\\nRedondeamos hacia arriba por lo que nos quedamos con UN contrato para la cobertura.')"
   ]
  },
  {
   "cell_type": "markdown",
   "metadata": {},
   "source": [
    "### b) Reduciendo en alguno de los activos actuales para comprar VXX o algún etf inverso de algún índice bursátil (del Dow, S&P o Nasdaq)\n",
    "> Cálculos abajo.\n",
    "\n",
    "- Para decidir cuál activo reducir observé su volatilidad para ver cuál era el más riesgoso.\n",
    "- El asset más volatil fue el GLD, seguido por IBB, por lo que me dispuse a reducir el número de títulos y agregar de VXX.\n",
    "- Después de probar con diferentes combinaciones decidí eliminar por completo GLD y reducir 300 títulos de IBB para agregar 3000 de VXX, así pude reducir el VaR a menos de 20k usd de manera satisfactoria."
   ]
  },
  {
   "cell_type": "code",
   "execution_count": 119,
   "metadata": {
    "ExecuteTime": {
     "end_time": "2020-09-01T16:38:08.557613Z",
     "start_time": "2020-09-01T16:38:08.544570Z"
    },
    "scrolled": true
   },
   "outputs": [
    {
     "data": {
      "text/plain": [
       "[0.01125921774367927,\n",
       " 0.012598114047430583,\n",
       " 0.008052364958292611,\n",
       " 0.01856666521239993,\n",
       " 0.005143106611940606]"
      ]
     },
     "execution_count": 119,
     "metadata": {},
     "output_type": "execute_result"
    }
   ],
   "source": [
    "# Rendimientos\n",
    "ret= np.log(closes/closes.shift(1)).iloc[1:]\n",
    "# Volatilidad\n",
    "nombres= ['IYW', 'IBB', 'IYF', 'GLD', 'SPY']\n",
    "sActivos= [ret[nombres[i]].std() for i in range(len(nombres))]\n",
    "sActivos"
   ]
  },
  {
   "cell_type": "code",
   "execution_count": 127,
   "metadata": {
    "ExecuteTime": {
     "end_time": "2020-09-01T16:39:49.729491Z",
     "start_time": "2020-09-01T16:39:45.824897Z"
    }
   },
   "outputs": [
    {
     "name": "stdout",
     "output_type": "stream",
     "text": [
      "VaR en porciento: -0.02197186224356331 \n",
      "VaR en dinero: -19716.482404168848\n"
     ]
    }
   ],
   "source": [
    "namen= ['IYW', 'IBB', 'IYF', 'SPY', 'VXX']\n",
    "start= '2018-08-31'\n",
    "titulos= [944, 1587, 1676, 286, 3000]\n",
    "confianza= 0.975\n",
    "VaRPortTitulos(names=namen, start=start, titulos=titulos, confianza=confianza)"
   ]
  },
  {
   "cell_type": "markdown",
   "metadata": {},
   "source": [
    "### c) Con calls ya sea de los activos que tiene el portafolio o de algún índice bursátil\n",
    "> Cálculos abajo.\n",
    "\n",
    "- Nuestro VaR es de -28522.42 usd y queremos reducirlo a menos de 20 mil dólares, por lo que se realizará una cobertura por 9k.\n",
    "- Como recordamos del inciso anterior, el asset con mayor volatilidad es el de GLD, por lo que buscaremos una opción del mismo.\n",
    "- Elijo usar calls a 10 días con strike de 185 y delta de 0.5461.\n",
    "- Entonces si cada contrato es de 100 títulos, implica que cada call equivale a 18500 usd.\n",
    "- Pero dado que su delta es de 0.5 significa que en realidad se mueve como si se tratara de 50 títulos.\n",
    "- Como no puede haber fracciones de contratos es necesario redondear, por lo que se determina que el número de contratos call para la posición es **1**.\n",
    "- Entonces, **estoy corto en un call de GLD**."
   ]
  },
  {
   "cell_type": "code",
   "execution_count": 128,
   "metadata": {
    "ExecuteTime": {
     "end_time": "2020-09-01T17:10:23.870701Z",
     "start_time": "2020-09-01T17:10:23.819496Z"
    }
   },
   "outputs": [
    {
     "data": {
      "text/plain": [
       "184.8300018310547"
      ]
     },
     "execution_count": 128,
     "metadata": {},
     "output_type": "execute_result"
    }
   ],
   "source": [
    "# Vemos como cerró GLD\n",
    "closes['GLD'][-1]"
   ]
  },
  {
   "cell_type": "code",
   "execution_count": 133,
   "metadata": {
    "ExecuteTime": {
     "end_time": "2020-09-01T17:22:48.670055Z",
     "start_time": "2020-09-01T17:22:48.661943Z"
    }
   },
   "outputs": [
    {
     "name": "stdout",
     "output_type": "stream",
     "text": [
      "Cada call de los mencionados equivale a $10102.85.\n"
     ]
    }
   ],
   "source": [
    "# A cuanto equivale cada call\n",
    "Call= 185*0.5461*100\n",
    "print('Cada call de los mencionados equivale a ${}.'.format(Call))"
   ]
  },
  {
   "cell_type": "code",
   "execution_count": 135,
   "metadata": {
    "ExecuteTime": {
     "end_time": "2020-09-01T17:26:27.165654Z",
     "start_time": "2020-09-01T17:26:27.150934Z"
    }
   },
   "outputs": [
    {
     "name": "stdout",
     "output_type": "stream",
     "text": [
      "Contratos necesarios 0.8908377339067689. \n",
      "Redondeamos hacia arriba por lo que nos quedamos con UN contrato para la cobertura.\n"
     ]
    }
   ],
   "source": [
    "# Calls a comprar\n",
    "cCalls= 9000/Call\n",
    "print('Contratos necesarios {}.'.format(cCalls),\n",
    "      '\\nRedondeamos hacia arriba por lo que nos quedamos con UN contrato para la cobertura.')"
   ]
  },
  {
   "cell_type": "markdown",
   "metadata": {},
   "source": [
    "### d) Con puts ya sea de los activos que se traen en el portafolio o de algún índice\n",
    "> Cálculos abajo.\n",
    "\n",
    "- Nuestro VaR es de -28522.42 usd y queremos reducirlo a menos de 20 mil dólares, por lo que se realizará una cobertura por 9k.\n",
    "- Como recordamos del inciso anterior, el asset con mayor volatilidad es el de GLD, por lo que buscaremos una opción del mismo.\n",
    "- Elijo usar putss a 10 días con strike de 185 y delta de -0.4544.\n",
    "- Entonces si cada contrato es de 100 títulos, implica que cada call equivale a 18500 usd.\n",
    "- Pero dado que su delta es de 0.5 significa que en realidad se mueve como si se tratara de 50 títulos.\n",
    "- Como no puede haber fracciones de contratos es necesario redondear, por lo que se determina que el número de contratos call para la posición es **1**.\n",
    "- Entonces, **estoy corto en un put de GLD**."
   ]
  },
  {
   "cell_type": "code",
   "execution_count": 140,
   "metadata": {
    "ExecuteTime": {
     "end_time": "2020-09-01T17:35:47.715912Z",
     "start_time": "2020-09-01T17:35:47.689137Z"
    }
   },
   "outputs": [
    {
     "name": "stdout",
     "output_type": "stream",
     "text": [
      "Cada call de los mencionados equivale a $8406.400000000001.\n"
     ]
    }
   ],
   "source": [
    "# A cuanto equivale cada put\n",
    "Put= 185*0.4544*100\n",
    "print('Cada call de los mencionados equivale a ${}.'.format(Put))"
   ]
  },
  {
   "cell_type": "code",
   "execution_count": 141,
   "metadata": {
    "ExecuteTime": {
     "end_time": "2020-09-01T17:36:19.355503Z",
     "start_time": "2020-09-01T17:36:19.339369Z"
    }
   },
   "outputs": [
    {
     "name": "stdout",
     "output_type": "stream",
     "text": [
      "Contratos necesarios 1.070612866387514. \n",
      "Redondeamos hacia arriba por lo que nos quedamos con UN contrato para la cobertura.\n"
     ]
    }
   ],
   "source": [
    "# Puts a comprar\n",
    "cPuts= 9000/Put\n",
    "print('Contratos necesarios {}.'.format(cPuts),\n",
    "      '\\nRedondeamos hacia arriba por lo que nos quedamos con UN contrato para la cobertura.')"
   ]
  },
  {
   "cell_type": "markdown",
   "metadata": {},
   "source": [
    "___\n",
    "# Tarea VaR Portafolio\n",
    "\n",
    "> 31 de agosto de 2020\n",
    "\n",
    "1. Calcular el VaR y Expected Shortfall para el lunes 31 de agosto de 2020 del siguiente portafolio. Simulación histórica (2 años). Nivel de confianza 97.5%.\n",
    "\n",
    "| Activo  | IYW | IBB  | IYF  | SPY | SLV  |\n",
    "|---------|-----|------|------|-----|------|\n",
    "| Títulos | 944 | 1887 | 1676 | 286 | 7785 |"
   ]
  },
  {
   "cell_type": "markdown",
   "metadata": {},
   "source": [
    "### VaR "
   ]
  },
  {
   "cell_type": "code",
   "execution_count": 26,
   "metadata": {
    "ExecuteTime": {
     "end_time": "2020-09-01T00:45:03.820375Z",
     "start_time": "2020-09-01T00:44:55.420997Z"
    }
   },
   "outputs": [
    {
     "name": "stdout",
     "output_type": "stream",
     "text": [
      "VaR en porciento: -0.03053655327075008 \n",
      "VaR en dinero: -32371.453133052786\n"
     ]
    }
   ],
   "source": [
    "names=['IYW', 'IBB', 'IYF', 'SPY', 'SLV']\n",
    "start= '2018-08-30'\n",
    "titulos= [944, 1887, 1676, 286, 7785]\n",
    "confianza= 0.975\n",
    "VaRPortTitulos(names=names, start=start, titulos=titulos, confianza=0.975)"
   ]
  },
  {
   "cell_type": "markdown",
   "metadata": {},
   "source": [
    "### ES"
   ]
  },
  {
   "cell_type": "code",
   "execution_count": 27,
   "metadata": {
    "ExecuteTime": {
     "end_time": "2020-09-01T00:45:07.695968Z",
     "start_time": "2020-09-01T00:45:03.826878Z"
    },
    "scrolled": true
   },
   "outputs": [
    {
     "name": "stdout",
     "output_type": "stream",
     "text": [
      "ES en porciento: -0.052657680242071604 \n",
      "ES en dinero: -55821.80847123582\n"
     ]
    }
   ],
   "source": [
    "ESPortTitulos(names=names, start=start, titulos=titulos, confianza=0.975)"
   ]
  },
  {
   "cell_type": "markdown",
   "metadata": {},
   "source": [
    "<script>\n",
    "  $(document).ready(function(){\n",
    "    $('div.prompt').hide();\n",
    "    $('div.back-to-top').hide();\n",
    "    $('nav#menubar').hide();\n",
    "    $('.breadcrumb').hide();\n",
    "    $('.hidden-print').hide();\n",
    "  });\n",
    "</script>\n",
    "\n",
    "<footer id=\"attribution\" style=\"float:right; color:#808080; background:#fff;\">\n",
    "Created with Jupyter by Edgar Machuca Buenrostro.\n",
    "</footer>"
   ]
  }
 ],
 "metadata": {
  "kernelspec": {
   "display_name": "Python 3",
   "language": "python",
   "name": "python3"
  },
  "language_info": {
   "codemirror_mode": {
    "name": "ipython",
    "version": 3
   },
   "file_extension": ".py",
   "mimetype": "text/x-python",
   "name": "python",
   "nbconvert_exporter": "python",
   "pygments_lexer": "ipython3",
   "version": "3.6.5"
  }
 },
 "nbformat": 4,
 "nbformat_minor": 2
}
