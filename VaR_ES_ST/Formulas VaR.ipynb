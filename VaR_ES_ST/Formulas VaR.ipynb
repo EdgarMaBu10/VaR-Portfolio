{
 "cells": [
  {
   "cell_type": "code",
   "execution_count": 1,
   "metadata": {
    "ExecuteTime": {
     "end_time": "2020-08-30T22:10:31.008769Z",
     "start_time": "2020-08-30T22:10:30.974094Z"
    }
   },
   "outputs": [],
   "source": [
    "# Función para descargar precios de cierre ajustados:\n",
    "def get_adj_closes(tickers, start_date=None, end_date=None):\n",
    "    # Fecha inicio por defecto (start_date='2010-01-01') y fecha fin por defecto (end_date=today)\n",
    "    # Descargamos DataFrame con todos los datos\n",
    "    closes = web.DataReader(name=tickers, data_source='yahoo', start=start_date, end=end_date)\n",
    "    # Solo necesitamos los precios ajustados en el cierre\n",
    "    closes = closes['Adj Close']\n",
    "    # Se ordenan los índices de manera ascendente\n",
    "    closes.sort_index(inplace=True)\n",
    "    return closes"
   ]
  },
  {
   "cell_type": "markdown",
   "metadata": {},
   "source": [
    "## VaR con Títulos"
   ]
  },
  {
   "cell_type": "code",
   "execution_count": 2,
   "metadata": {
    "ExecuteTime": {
     "end_time": "2020-08-30T22:11:05.199162Z",
     "start_time": "2020-08-30T22:11:05.191406Z"
    }
   },
   "outputs": [],
   "source": [
    "def  VaRPortTitulos(names: 'Tickers de los activos del portafolio en []', \n",
    "                    start: 'Fecha inicio',\n",
    "                    end: 'Fecha final',\n",
    "                    titulos: 'Titulos de los activos del portafolio en [] (mismo orden de tickers)',\n",
    "                    confianza: 'Nivel de confianza del VaR (en decimal)'\n",
    "                    ):\n",
    "    # Descarga de datos\n",
    "    closes= get_adj_closes(tickers=names, start_date=start, end_date=end)\n",
    "    ret= np.log(closes/closes.shift(1)).iloc[1:]\n",
    "    # Exposure \n",
    "    ExpTotal= np.sum([titulos[i]*closes[names[i]][-1] for i in range(len(names))])\n",
    "    ExpIndiv= [titulos[j]*closes[names[j]][-1] for j in range(len(names))]\n",
    "    # Pesos\n",
    "    PesosAct= [ExpIndiv[k]/ExpTotal for k in range(len(ExpIndiv))]\n",
    "    # Portafolio\n",
    "    PortIndiv= [PesosAct[i]*ret[names[i]] for i in range(len(PesosAct))]\n",
    "    Port= np.sum(PortIndiv, axis=0)\n",
    "    # Acomodarlo menor a mayor\n",
    "    sortport= np.sort(Port)\n",
    "    n= len(Port)\n",
    "    # Nivel de confianza\n",
    "    fuera= round(n*(1-confianza))\n",
    "    # VaR en porcentaje\n",
    "    VaRPortP= sortport[fuera]\n",
    "    # VaR en dinero\n",
    "    VaRPortM= ExpTotal*VaRPortP\n",
    "    return print(\"VaR en porciento:\", VaRPortP, \n",
    "                 '\\nVaR en dinero:', VaRPortM)"
   ]
  },
  {
   "cell_type": "markdown",
   "metadata": {},
   "source": [
    "## ES con Títulos"
   ]
  },
  {
   "cell_type": "code",
   "execution_count": 3,
   "metadata": {
    "ExecuteTime": {
     "end_time": "2020-08-31T04:09:19.969520Z",
     "start_time": "2020-08-31T04:09:19.918929Z"
    }
   },
   "outputs": [],
   "source": [
    "def  ESPortTitulos(names: 'Tickers de los activos del portafolio en []', \n",
    "                   start: 'Fecha inicio',\n",
    "                   end: 'Fecha final',\n",
    "                   titulos: 'Titulos de los activos del portafolio en [] (mismo orden de tickers)',\n",
    "                   confianza: 'Nivel de confianza del VaR (en decimal)'\n",
    "                   ):\n",
    "    # Descarga de datos\n",
    "    closes= get_adj_closes(tickers=names, start_date=start, end_date=end)\n",
    "    ret= np.log(closes/closes.shift(1)).iloc[1:]\n",
    "    # Exposure \n",
    "    ExpTotal= np.sum([titulos[i]*closes[names[i]][-1] for i in range(len(names))])\n",
    "    ExpIndiv= [titulos[j]*closes[names[j]][-1] for j in range(len(names))]\n",
    "    # Pesos\n",
    "    PesosAct= [ExpIndiv[k]/ExpTotal for k in range(len(ExpIndiv))]\n",
    "    # Portafolio\n",
    "    PortIndiv= [PesosAct[i]*ret[names[i]] for i in range(len(PesosAct))]\n",
    "    Port= np.sum(PortIndiv, axis=0)\n",
    "    # Acomodarlo menor a mayor\n",
    "    sortport= np.sort(Port)\n",
    "    n= len(Port)\n",
    "    # Nivel de confianza\n",
    "    fuera= round(n*(1-confianza))\n",
    "    # ES en porcentaje\n",
    "    ESPortP= np.mean(sortport[0:fuera])\n",
    "    # ES en dinero\n",
    "    ESPortM= ESPortP*ExpTotal\n",
    "    return print(\"ES en porciento:\", ESPortP, \n",
    "                 '\\nES en dinero:', ESPortM)"
   ]
  },
  {
   "cell_type": "markdown",
   "metadata": {},
   "source": [
    "## Stress Test con Títulos"
   ]
  },
  {
   "cell_type": "code",
   "execution_count": 4,
   "metadata": {
    "ExecuteTime": {
     "end_time": "2020-08-31T04:10:17.066915Z",
     "start_time": "2020-08-31T04:10:17.059727Z"
    }
   },
   "outputs": [],
   "source": [
    "def  STPortTitulos(names: 'Tickers de los activos del portafolio en []', \n",
    "                   start: 'Fecha inicio',\n",
    "                   end: 'Fecha final',\n",
    "                   titulos: 'Titulos de los activos del portafolio en [] (mismo orden de tickers)'\n",
    "                   ):\n",
    "    # Descarga de datos\n",
    "    closes= get_adj_closes(tickers=names, start_date=start, end_date=end)\n",
    "    ret= np.log(closes/closes.shift(1)).iloc[1:]\n",
    "    # Exposure \n",
    "    ExpTotal= np.sum([titulos[i]*closes[names[i]][-1] for i in range(len(names))])\n",
    "    ExpIndiv= [titulos[j]*closes[names[j]][-1] for j in range(len(names))]\n",
    "    # Pesos\n",
    "    PesosAct= [ExpIndiv[k]/ExpTotal for k in range(len(ExpIndiv))]\n",
    "    # Portafolio\n",
    "    PortIndiv= [PesosAct[i]*ret[names[i]] for i in range(len(PesosAct))]\n",
    "    Port= np.sum(PortIndiv, axis=0)\n",
    "    # Rendimiento medio diario (media aritmética)\n",
    "    ErP= np.mean(Port)\n",
    "    # Volatilidad diaria (desviación estándar)\n",
    "    sP= np.std(Port)\n",
    "    # Stress en porcentaje\n",
    "    STPortP= sP*5*-1\n",
    "    # Stress en dinero\n",
    "    STPortM= ExpTotal*STPortP\n",
    "    return print(\"Stress Test en porciento:\", STPortP, \n",
    "                 '\\nStress Test en dinero:', STPortM)"
   ]
  }
 ],
 "metadata": {
  "kernelspec": {
   "display_name": "Python 3",
   "language": "python",
   "name": "python3"
  },
  "language_info": {
   "codemirror_mode": {
    "name": "ipython",
    "version": 3
   },
   "file_extension": ".py",
   "mimetype": "text/x-python",
   "name": "python",
   "nbconvert_exporter": "python",
   "pygments_lexer": "ipython3",
   "version": "3.6.5"
  }
 },
 "nbformat": 4,
 "nbformat_minor": 2
}
